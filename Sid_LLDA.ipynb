{
 "cells": [
  {
   "cell_type": "code",
   "execution_count": 2,
   "id": "4d8a16a9",
   "metadata": {},
   "outputs": [],
   "source": [
    "import pandas as pd\n",
    "import gensim\n",
    "from gensim import corpora, models\n",
    "import nltk\n",
    "import re\n",
    "\n",
    "from nltk.tokenize import RegexpTokenizer\n",
    "\n",
    "# Load data into a pandas DataFrame\n",
    "df = pd.read_csv('train.csv')\n",
    "df = df[:int(df.shape[0])]"
   ]
  },
  {
   "cell_type": "code",
   "execution_count": 3,
   "id": "a377eb77",
   "metadata": {},
   "outputs": [
    {
     "data": {
      "text/plain": [
       "'Java: Repeat Task Every Random Seconds'"
      ]
     },
     "execution_count": 3,
     "metadata": {},
     "output_type": "execute_result"
    }
   ],
   "source": [
    "df['Title'][0]"
   ]
  },
  {
   "cell_type": "code",
   "execution_count": 4,
   "id": "f63df4fa",
   "metadata": {
    "scrolled": true
   },
   "outputs": [
    {
     "data": {
      "text/plain": [
       "'<p>I\\'m already familiar with repeating tasks every n seconds by using Java.util.Timer and Java.util.TimerTask. But lets say I want to print \"Hello World\" to the console every random seconds from 1-5. Unfortunately I\\'m in a bit of a rush and don\\'t have any code to show so far. Any help would be apriciated.  </p>\\n'"
      ]
     },
     "execution_count": 4,
     "metadata": {},
     "output_type": "execute_result"
    }
   ],
   "source": [
    "df['Body'][0]"
   ]
  },
  {
   "cell_type": "code",
   "execution_count": 6,
   "id": "b70dbe15",
   "metadata": {},
   "outputs": [],
   "source": [
    "df['input'] = df['Body'] + df['Title']"
   ]
  },
  {
   "cell_type": "code",
   "execution_count": 9,
   "id": "c4a00368",
   "metadata": {},
   "outputs": [],
   "source": [
    "\n",
    "tag_tokenizer = nltk.RegexpTokenizer('\\w+')\n",
    "df['tags'] = df['Tags'].apply(tag_tokenizer.tokenize)"
   ]
  },
  {
   "cell_type": "code",
   "execution_count": 11,
   "id": "b2a668f5",
   "metadata": {
    "scrolled": true
   },
   "outputs": [
    {
     "data": {
      "text/plain": [
       "0                                       [java, repeat]\n",
       "1                                     [java, optional]\n",
       "2    [javascript, image, overlay, react, native, op...\n",
       "3    [swift, operators, whitespace, ternary, operat...\n",
       "4    [android, material, design, floating, action, ...\n",
       "5                      [c, pointers, data, structures]\n",
       "6                     [javascript, jquery, jquery, ui]\n",
       "7              [jquery, html, css, twitter, bootstrap]\n",
       "8    [c, windows, 10, windows, 10, mobile, windows,...\n",
       "9                                                [vb6]\n",
       "Name: tags, dtype: object"
      ]
     },
     "execution_count": 11,
     "metadata": {},
     "output_type": "execute_result"
    }
   ],
   "source": [
    "df['tags'][:10]"
   ]
  },
  {
   "cell_type": "code",
   "execution_count": 12,
   "id": "cf65ad3a",
   "metadata": {},
   "outputs": [],
   "source": [
    "tag_dict = {}\n",
    "for ls in df['tags']:\n",
    "    for tag in ls:\n",
    "        if tag in tag_dict:\n",
    "            tag_dict[tag] += 1\n",
    "        else:\n",
    "            tag_dict[tag] = 1"
   ]
  },
  {
   "cell_type": "code",
   "execution_count": 20,
   "id": "e98f68a2",
   "metadata": {},
   "outputs": [
    {
     "data": {
      "text/plain": [
       "['java',\n",
       " 'repeat',\n",
       " 'optional',\n",
       " 'javascript',\n",
       " 'image',\n",
       " 'overlay',\n",
       " 'react',\n",
       " 'native',\n",
       " 'opacity',\n",
       " 'swift']"
      ]
     },
     "execution_count": 20,
     "metadata": {},
     "output_type": "execute_result"
    }
   ],
   "source": [
    "list(tag_dict.keys())[:10]"
   ]
  },
  {
   "cell_type": "code",
   "execution_count": 21,
   "id": "74c0dfcd",
   "metadata": {},
   "outputs": [],
   "source": [
    "sorted_tags = sorted(tag_dict, key = lambda x: tag_dict[x],  reverse = True)"
   ]
  },
  {
   "cell_type": "code",
   "execution_count": 22,
   "id": "f1a40e7b",
   "metadata": {},
   "outputs": [],
   "source": [
    "tag2id = {}\n",
    "id2tag = {}\n",
    "tag_id = 0\n",
    "\n",
    "for tag in sorted_tags:\n",
    "    if tag not in tag2id:\n",
    "        tag2id[tag] = tag_id\n",
    "        id2tag[tag_id] = tag\n",
    "        tag_id += 1"
   ]
  },
  {
   "cell_type": "code",
   "execution_count": 31,
   "id": "9cf2bb0f",
   "metadata": {},
   "outputs": [
    {
     "data": {
      "text/plain": [
       "[(0, 'c'),\n",
       " (1, 'python'),\n",
       " (2, 'android'),\n",
       " (3, 'javascript'),\n",
       " (4, 'java'),\n",
       " (5, 'php'),\n",
       " (6, 'html'),\n",
       " (7, 'sql'),\n",
       " (8, 'net'),\n",
       " (9, 'css')]"
      ]
     },
     "execution_count": 31,
     "metadata": {},
     "output_type": "execute_result"
    }
   ],
   "source": [
    "list(id2tag.items())[:10]"
   ]
  },
  {
   "cell_type": "code",
   "execution_count": 37,
   "id": "0fbf1695",
   "metadata": {},
   "outputs": [],
   "source": [
    "# Modify preprocess function to replace tags with tag IDs\n",
    "def preprocess(text):\n",
    "    text = re.sub(r'\\b\\w{1,3}\\b', '', text)  # Remove short words\n",
    "    text = re.sub(r'\\s+', ' ', text)  # Remove extra whitespace\n",
    "    text = re.sub(r'\\W', ' ', text)  # Replace non-alphanumeric characters with space\n",
    "    text = text.lower()  # Convert to lowercase\n",
    "    words = text.split()  # Split into words\n",
    "\n",
    "    # Replace tags with tag IDs\n",
    "    for i in range(len(words)):\n",
    "        if words[i] in tag2id:\n",
    "            words[i] = str(tag2id[words[i]])\n",
    "\n",
    "    return words"
   ]
  },
  {
   "cell_type": "code",
   "execution_count": 39,
   "id": "1b7299d4",
   "metadata": {},
   "outputs": [],
   "source": [
    "lst = []\n",
    "for i in df['tags']:\n",
    "    for k in i:\n",
    "        if k not in lst:\n",
    "            lst.append(k)"
   ]
  },
  {
   "cell_type": "code",
   "execution_count": 40,
   "id": "faa69eea",
   "metadata": {},
   "outputs": [
    {
     "data": {
      "text/plain": [
       "6917"
      ]
     },
     "execution_count": 40,
     "metadata": {},
     "output_type": "execute_result"
    }
   ],
   "source": [
    "len(lst)"
   ]
  },
  {
   "cell_type": "code",
   "execution_count": 49,
   "id": "af0efcef",
   "metadata": {},
   "outputs": [],
   "source": [
    "num_topics = 10\n",
    "\n",
    "model = gensim.models.ldamodel.LdaModel(corpus=corpus, id2word=dictionary,\n",
    "                                        alpha='auto', eta='auto',\n",
    "                                        num_topics = num_topics,\n",
    "                                        eval_every=None,\n",
    "                                        gamma_threshold=0.001, minimum_probability=0.01,\n",
    "                                        random_state=42, per_word_topics=True)\n"
   ]
  },
  {
   "cell_type": "code",
   "execution_count": 42,
   "id": "371320c2",
   "metadata": {},
   "outputs": [],
   "source": [
    "# Get top 3 tags for each comment\n",
    "def get_top_tags(comment):\n",
    "    doc = preprocess(comment)\n",
    "    doc_bow = dictionary.doc2bow(doc)\n",
    "    topics = model.get_document_topics(doc_bow)\n",
    "\n",
    "    top_topics = sorted(topics, key=lambda x: x[1], reverse=True)[:3]\n",
    "    top_tags = [id2tag[int(topic[0])] for topic in top_topics]\n",
    "    #top_tags = [topic for topic in top_topics]\n",
    "\n",
    "    return top_tags"
   ]
  },
  {
   "cell_type": "code",
   "execution_count": 43,
   "id": "6dccfcd4",
   "metadata": {},
   "outputs": [],
   "source": [
    "df['out_tags'] = df['input'].apply(get_top_tags)"
   ]
  },
  {
   "cell_type": "code",
   "execution_count": 44,
   "id": "1df857c0",
   "metadata": {},
   "outputs": [
    {
     "data": {
      "text/html": [
       "<div>\n",
       "<style scoped>\n",
       "    .dataframe tbody tr th:only-of-type {\n",
       "        vertical-align: middle;\n",
       "    }\n",
       "\n",
       "    .dataframe tbody tr th {\n",
       "        vertical-align: top;\n",
       "    }\n",
       "\n",
       "    .dataframe thead th {\n",
       "        text-align: right;\n",
       "    }\n",
       "</style>\n",
       "<table border=\"1\" class=\"dataframe\">\n",
       "  <thead>\n",
       "    <tr style=\"text-align: right;\">\n",
       "      <th></th>\n",
       "      <th>tags</th>\n",
       "      <th>out_tags</th>\n",
       "    </tr>\n",
       "  </thead>\n",
       "  <tbody>\n",
       "    <tr>\n",
       "      <th>0</th>\n",
       "      <td>[java, repeat]</td>\n",
       "      <td>[c, css, net]</td>\n",
       "    </tr>\n",
       "    <tr>\n",
       "      <th>1</th>\n",
       "      <td>[java, optional]</td>\n",
       "      <td>[css, android, net]</td>\n",
       "    </tr>\n",
       "    <tr>\n",
       "      <th>2</th>\n",
       "      <td>[javascript, image, overlay, react, native, op...</td>\n",
       "      <td>[html, python, java]</td>\n",
       "    </tr>\n",
       "    <tr>\n",
       "      <th>3</th>\n",
       "      <td>[swift, operators, whitespace, ternary, operat...</td>\n",
       "      <td>[android, c, php]</td>\n",
       "    </tr>\n",
       "    <tr>\n",
       "      <th>4</th>\n",
       "      <td>[android, material, design, floating, action, ...</td>\n",
       "      <td>[java, javascript, css]</td>\n",
       "    </tr>\n",
       "    <tr>\n",
       "      <th>...</th>\n",
       "      <td>...</td>\n",
       "      <td>...</td>\n",
       "    </tr>\n",
       "    <tr>\n",
       "      <th>44995</th>\n",
       "      <td>[c, asp, net, sql, server]</td>\n",
       "      <td>[c, java, android]</td>\n",
       "    </tr>\n",
       "    <tr>\n",
       "      <th>44996</th>\n",
       "      <td>[python]</td>\n",
       "      <td>[android, css, html]</td>\n",
       "    </tr>\n",
       "    <tr>\n",
       "      <th>44997</th>\n",
       "      <td>[azure, billing]</td>\n",
       "      <td>[css, c, sql]</td>\n",
       "    </tr>\n",
       "    <tr>\n",
       "      <th>44998</th>\n",
       "      <td>[ios, swift]</td>\n",
       "      <td>[c, css, php]</td>\n",
       "    </tr>\n",
       "    <tr>\n",
       "      <th>44999</th>\n",
       "      <td>[c, visual, studio]</td>\n",
       "      <td>[css, c, java]</td>\n",
       "    </tr>\n",
       "  </tbody>\n",
       "</table>\n",
       "<p>45000 rows × 2 columns</p>\n",
       "</div>"
      ],
      "text/plain": [
       "                                                    tags  \\\n",
       "0                                         [java, repeat]   \n",
       "1                                       [java, optional]   \n",
       "2      [javascript, image, overlay, react, native, op...   \n",
       "3      [swift, operators, whitespace, ternary, operat...   \n",
       "4      [android, material, design, floating, action, ...   \n",
       "...                                                  ...   \n",
       "44995                         [c, asp, net, sql, server]   \n",
       "44996                                           [python]   \n",
       "44997                                   [azure, billing]   \n",
       "44998                                       [ios, swift]   \n",
       "44999                                [c, visual, studio]   \n",
       "\n",
       "                      out_tags  \n",
       "0                [c, css, net]  \n",
       "1          [css, android, net]  \n",
       "2         [html, python, java]  \n",
       "3            [android, c, php]  \n",
       "4      [java, javascript, css]  \n",
       "...                        ...  \n",
       "44995       [c, java, android]  \n",
       "44996     [android, css, html]  \n",
       "44997            [css, c, sql]  \n",
       "44998            [c, css, php]  \n",
       "44999           [css, c, java]  \n",
       "\n",
       "[45000 rows x 2 columns]"
      ]
     },
     "execution_count": 44,
     "metadata": {},
     "output_type": "execute_result"
    }
   ],
   "source": [
    "df[['tags', 'out_tags']]"
   ]
  },
  {
   "cell_type": "code",
   "execution_count": null,
   "id": "e223e4a6",
   "metadata": {},
   "outputs": [],
   "source": []
  }
 ],
 "metadata": {
  "kernelspec": {
   "display_name": "Python 3 (ipykernel)",
   "language": "python",
   "name": "python3"
  },
  "language_info": {
   "codemirror_mode": {
    "name": "ipython",
    "version": 3
   },
   "file_extension": ".py",
   "mimetype": "text/x-python",
   "name": "python",
   "nbconvert_exporter": "python",
   "pygments_lexer": "ipython3",
   "version": "3.9.13"
  }
 },
 "nbformat": 4,
 "nbformat_minor": 5
}
